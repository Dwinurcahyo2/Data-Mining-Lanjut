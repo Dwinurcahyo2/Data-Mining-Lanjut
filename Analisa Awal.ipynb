{
  "cells": [
    {
      "cell_type": "markdown",
      "metadata": {
        "colab_type": "text",
        "id": "view-in-github"
      },
      "source": [
        "<a href=\"https://colab.research.google.com/github/Dwinurcahyo2/Data-Mining-Lanjut/blob/main/UAS_data_mining_lanjut.ipynb\" target=\"_parent\"><img src=\"https://colab.research.google.com/assets/colab-badge.svg\" alt=\"Open In Colab\"/></a>"
      ]
    },
    {
      "cell_type": "markdown",
      "metadata": {
        "id": "c10sA69YpxcM"
      },
      "source": [
        "**UAS DATA MINING LANJUT**"
      ]
    },
    {
      "cell_type": "markdown",
      "metadata": {
        "id": "sUhdadnnqE7r"
      },
      "source": [
        "LIBRARY"
      ]
    },
    {
      "cell_type": "code",
      "execution_count": 2,
      "metadata": {
        "colab": {
          "base_uri": "https://localhost:8080/"
        },
        "id": "GGbTizkZoev3",
        "outputId": "3a6f7748-19e5-4ce5-d6c6-4d57bfe61f22"
      },
      "outputs": [
        {
          "name": "stderr",
          "output_type": "stream",
          "text": [
            "fatal: destination path 'Data-Mining-Lanjut' already exists and is not an empty directory.\n"
          ]
        }
      ],
      "source": [
        "!git clone https://github.com/Dwinurcahyo2/Data-Mining-Lanjut.git"
      ]
    },
    {
      "cell_type": "code",
      "execution_count": 4,
      "metadata": {},
      "outputs": [
        {
          "name": "stdout",
          "output_type": "stream",
          "text": [
            "C:\\Users\\USER\\OneDrive\\Dokumen\\Semester 6\\DataMiningLanjut\\Data-Mining-Lanjut\\Notebooks\n"
          ]
        }
      ],
      "source": [
        "%cd \"C:\\Users\\USER\\OneDrive\\Dokumen\\Semester 6\\DataMiningLanjut\\Data-Mining-Lanjut\\Notebooks\""
      ]
    },
    {
      "cell_type": "code",
      "execution_count": 3,
      "metadata": {},
      "outputs": [
        {
          "name": "stdout",
          "output_type": "stream",
          "text": [
            "M\tData-Mining-Lanjut\n",
            "branch 'Farhan' set up to track 'origin/Farhan'.\n"
          ]
        },
        {
          "name": "stderr",
          "output_type": "stream",
          "text": [
            "Switched to a new branch 'Farhan'\n"
          ]
        }
      ],
      "source": [
        "!git fetch origin\n",
        "!git checkout -b Farhan origin/Farhan"
      ]
    },
    {
      "cell_type": "code",
      "execution_count": 5,
      "metadata": {},
      "outputs": [
        {
          "name": "stdout",
          "output_type": "stream",
          "text": [
            "* Farhan\n",
            "  main\n"
          ]
        }
      ],
      "source": [
        "!git branch"
      ]
    },
    {
      "cell_type": "code",
      "execution_count": 6,
      "metadata": {},
      "outputs": [],
      "source": [
        "!git config --global user.name \"Hanfarhan\"\n",
        "!git config --global user.email \"farrhannnardiansyah@gmail.com\""
      ]
    }
  ],
  "metadata": {
    "colab": {
      "include_colab_link": true,
      "provenance": []
    },
    "kernelspec": {
      "display_name": "Python 3",
      "name": "python3"
    },
    "language_info": {
      "codemirror_mode": {
        "name": "ipython",
        "version": 3
      },
      "file_extension": ".py",
      "mimetype": "text/x-python",
      "name": "python",
      "nbconvert_exporter": "python",
      "pygments_lexer": "ipython3",
      "version": "3.13.5"
    }
  },
  "nbformat": 4,
  "nbformat_minor": 0
}
