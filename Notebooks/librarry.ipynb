{
 "cells": [
  {
   "cell_type": "code",
   "execution_count": 1,
   "id": "3b318528",
   "metadata": {},
   "outputs": [
    {
     "name": "stderr",
     "output_type": "stream",
     "text": [
      "Cloning into 'Data-Mining-Lanjut'...\n"
     ]
    }
   ],
   "source": [
    "!git clone https://github.com/Dwinurcahyo2/Data-Mining-Lanjut.git"
   ]
  },
  {
   "cell_type": "code",
   "execution_count": 9,
   "id": "1f0f7257",
   "metadata": {},
   "outputs": [
    {
     "name": "stderr",
     "output_type": "stream",
     "text": [
      "fatal: a branch named 'Satrio' already exists\n"
     ]
    }
   ],
   "source": [
    "!git fetch origin\n",
    "!git checkout -b Satrio origin/Satrio\n"
   ]
  },
  {
   "cell_type": "code",
   "execution_count": 23,
   "id": "624f9d7e",
   "metadata": {},
   "outputs": [
    {
     "name": "stdout",
     "output_type": "stream",
     "text": [
      "* Satrio\n",
      "  main\n"
     ]
    }
   ],
   "source": [
    "!git branch"
   ]
  },
  {
   "cell_type": "code",
   "execution_count": 22,
   "id": "1e5fe70d",
   "metadata": {},
   "outputs": [
    {
     "name": "stdout",
     "output_type": "stream",
     "text": [
      "C:\\Users\\USER\\Documents\\dml uas\\Data-Mining-Lanjut\\Notebooks\n"
     ]
    }
   ],
   "source": [
    "%cd \"C:\\Users\\USER\\Documents\\dml uas\\Data-Mining-Lanjut\\Notebooks\""
   ]
  },
  {
   "cell_type": "code",
   "execution_count": 24,
   "id": "a05841d7",
   "metadata": {},
   "outputs": [],
   "source": [
    "!git config --global user.name \"sattttttt24\"\n",
    "!git config --global user.email \"dewantorosatrio835@gmail.com\""
   ]
  }
 ],
 "metadata": {
  "kernelspec": {
   "display_name": ".venv",
   "language": "python",
   "name": "python3"
  },
  "language_info": {
   "codemirror_mode": {
    "name": "ipython",
    "version": 3
   },
   "file_extension": ".py",
   "mimetype": "text/x-python",
   "name": "python",
   "nbconvert_exporter": "python",
   "pygments_lexer": "ipython3",
   "version": "3.13.5"
  }
 },
 "nbformat": 4,
 "nbformat_minor": 5
}
