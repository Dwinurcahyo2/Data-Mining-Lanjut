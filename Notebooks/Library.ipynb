{
  "nbformat": 4,
  "nbformat_minor": 0,
  "metadata": {
    "colab": {
      "provenance": [],
      "authorship_tag": "ABX9TyNRBYLDSAquQCQKEy2AziWg",
      "include_colab_link": true
    },
    "kernelspec": {
      "name": "python3",
      "display_name": "Python 3"
    },
    "language_info": {
      "name": "python"
    }
  },
  "cells": [
    {
      "cell_type": "markdown",
      "metadata": {
        "id": "view-in-github",
        "colab_type": "text"
      },
      "source": [
        "<a href=\"https://colab.research.google.com/github/Dwinurcahyo2/Data-Mining-Lanjut/blob/Dwi/Notebooks/Library.ipynb\" target=\"_parent\"><img src=\"https://colab.research.google.com/assets/colab-badge.svg\" alt=\"Open In Colab\"/></a>"
      ]
    },
    {
      "cell_type": "code",
      "execution_count": 1,
      "metadata": {
        "colab": {
          "base_uri": "https://localhost:8080/"
        },
        "id": "EZec7ahk8EId",
        "outputId": "3f04408d-48b3-47cd-beb8-3713749be448"
      },
      "outputs": [
        {
          "output_type": "stream",
          "name": "stdout",
          "text": [
            "Cloning into 'Data-Mining-Lanjut'...\n",
            "remote: Enumerating objects: 37, done.\u001b[K\n",
            "remote: Counting objects: 100% (37/37), done.\u001b[K\n",
            "remote: Compressing objects: 100% (30/30), done.\u001b[K\n",
            "remote: Total 37 (delta 12), reused 14 (delta 2), pack-reused 0 (from 0)\u001b[K\n",
            "Receiving objects: 100% (37/37), 1.32 MiB | 10.23 MiB/s, done.\n",
            "Resolving deltas: 100% (12/12), done.\n"
          ]
        }
      ],
      "source": [
        "!git clone https://github.com/Dwinurcahyo2/Data-Mining-Lanjut"
      ]
    },
    {
      "cell_type": "code",
      "source": [
        "%cd /content/Data-Mining-Lanjut/Notebooks"
      ],
      "metadata": {
        "colab": {
          "base_uri": "https://localhost:8080/"
        },
        "id": "q2znRXLt8NWE",
        "outputId": "92898ca0-e498-4fea-fe24-946e96990a41"
      },
      "execution_count": 6,
      "outputs": [
        {
          "output_type": "stream",
          "name": "stdout",
          "text": [
            "/content/Data-Mining-Lanjut/Notebooks\n"
          ]
        }
      ]
    }
  ]
}