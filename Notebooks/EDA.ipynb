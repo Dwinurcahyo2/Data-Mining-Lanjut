{
  "nbformat": 4,
  "nbformat_minor": 0,
  "metadata": {
    "colab": {
      "provenance": [],
      "authorship_tag": "ABX9TyNpVCZ2Z81SIqxCLgFzlfrR",
      "include_colab_link": true
    },
    "kernelspec": {
      "name": "python3",
      "display_name": "Python 3"
    },
    "language_info": {
      "name": "python"
    }
  },
  "cells": [
    {
      "cell_type": "markdown",
      "metadata": {
        "id": "view-in-github",
        "colab_type": "text"
      },
      "source": [
        "<a href=\"https://colab.research.google.com/github/Dwinurcahyo2/Data-Mining-Lanjut/blob/Farhan/Notebooks/EDA.ipynb\" target=\"_parent\"><img src=\"https://colab.research.google.com/assets/colab-badge.svg\" alt=\"Open In Colab\"/></a>"
      ]
    },
    {
      "cell_type": "code",
      "execution_count": 1,
      "metadata": {
        "colab": {
          "base_uri": "https://localhost:8080/"
        },
        "id": "1ouB7H5o9vXi",
        "outputId": "0e21b81a-4c1f-4825-be7e-2f9ca5108f85"
      },
      "outputs": [
        {
          "output_type": "stream",
          "name": "stdout",
          "text": [
            "Cloning into 'Data-Mining-Lanjut'...\n",
            "remote: Enumerating objects: 41, done.\u001b[K\n",
            "remote: Counting objects: 100% (41/41), done.\u001b[K\n",
            "remote: Compressing objects: 100% (33/33), done.\u001b[K\n",
            "remote: Total 41 (delta 13), reused 14 (delta 2), pack-reused 0 (from 0)\u001b[K\n",
            "Receiving objects: 100% (41/41), 1.32 MiB | 9.93 MiB/s, done.\n",
            "Resolving deltas: 100% (13/13), done.\n"
          ]
        }
      ],
      "source": [
        "\n",
        "# Gantilah 'username' dan 'nama-repo' sesuai repo kamu\n",
        "!git clone https://github.com/Dwinurcahyo2/Data-Mining-Lanjut"
      ]
    },
    {
      "cell_type": "code",
      "source": [
        "%cd /content/Data-Mining-Lanjut/Notebooks"
      ],
      "metadata": {
        "colab": {
          "base_uri": "https://localhost:8080/"
        },
        "id": "bSTwrtfl9_Ie",
        "outputId": "896a24c4-f215-4022-b27a-77404bfe41e5"
      },
      "execution_count": 7,
      "outputs": [
        {
          "output_type": "stream",
          "name": "stdout",
          "text": [
            "/content/Data-Mining-Lanjut/Notebooks\n"
          ]
        }
      ]
    },
    {
      "cell_type": "code",
      "source": [
        "!git fetch origin"
      ],
      "metadata": {
        "id": "52vWDvWX-Hno"
      },
      "execution_count": 3,
      "outputs": []
    },
    {
      "cell_type": "code",
      "source": [
        "!git checkout -b Farhan origin/Farhan"
      ],
      "metadata": {
        "colab": {
          "base_uri": "https://localhost:8080/"
        },
        "id": "p8mIr5c--RpM",
        "outputId": "d5c6facb-becb-4bc5-e2bc-f6c1b8cfac7b"
      },
      "execution_count": 5,
      "outputs": [
        {
          "output_type": "stream",
          "name": "stdout",
          "text": [
            "Branch 'Farhan' set up to track remote branch 'Farhan' from 'origin'.\n",
            "Switched to a new branch 'Farhan'\n"
          ]
        }
      ]
    },
    {
      "cell_type": "code",
      "source": [
        "!git config --global user.name \"Hanfarhan\"\n",
        "!git config --global user.email \"farrhannnardiansyah@gmail.com\""
      ],
      "metadata": {
        "id": "HZ19UBac-OOj"
      },
      "execution_count": 6,
      "outputs": []
    }
  ]
}