{
  "cells": [
    {
      "cell_type": "markdown",
      "metadata": {
        "colab_type": "text",
        "id": "view-in-github"
      },
      "source": [
        "<a href=\"https://colab.research.google.com/github/Dwinurcahyo2/Data-Mining-Lanjut/blob/main/UAS_data_mining_lanjut.ipynb\" target=\"_parent\"><img src=\"https://colab.research.google.com/assets/colab-badge.svg\" alt=\"Open In Colab\"/></a>"
      ]
    },
    {
      "cell_type": "markdown",
      "metadata": {
        "id": "c10sA69YpxcM"
      },
      "source": [
        "**UAS DATA MINING LANJUT**"
      ]
    },
    {
      "cell_type": "markdown",
      "metadata": {
        "id": "sUhdadnnqE7r"
      },
      "source": [
        "LIBRARY"
      ]
    },
    {
      "cell_type": "code",
      "execution_count": 1,
      "metadata": {
        "colab": {
          "base_uri": "https://localhost:8080/"
        },
        "id": "GGbTizkZoev3",
        "outputId": "3a6f7748-19e5-4ce5-d6c6-4d57bfe61f22"
      },
      "outputs": [
        {
          "name": "stderr",
          "output_type": "stream",
          "text": [
            "Cloning into 'Data-Mining-Lanjut'...\n"
          ]
        }
      ],
      "source": [
        "!git clone https://github.com/Dwinurcahyo2/Data-Mining-Lanjut.git"
      ]
    },
    {
      "cell_type": "code",
      "execution_count": 3,
      "metadata": {},
      "outputs": [
        {
          "name": "stdout",
          "output_type": "stream",
          "text": [
            "branch 'Fawwaz' set up to track 'origin/Fawwaz'.\n"
          ]
        },
        {
          "name": "stderr",
          "output_type": "stream",
          "text": [
            "Switched to a new branch 'Fawwaz'\n"
          ]
        }
      ],
      "source": [
        "!git fetch origin\n",
        "!git checkout -b Fawwaz origin/Fawwaz"
      ]
    },
    {
      "cell_type": "code",
      "execution_count": null,
      "metadata": {},
      "outputs": [
        {
          "name": "stdout",
          "output_type": "stream",
          "text": [
            "C:\\Users\\HP\\DML\\Data-Mining-Lanjut\\Notebooks\n"
          ]
        }
      ],
      "source": [
        "#ganti ini sesuai folder tempat kamu menyimpan hasil clone\n",
        "\t%cd \"C:\\Users\\HP\\DML\\Data-Mining-Lanjut\\Notebooks\""
      ]
    },
    {
      "cell_type": "code",
      "execution_count": 5,
      "metadata": {},
      "outputs": [
        {
          "name": "stdout",
          "output_type": "stream",
          "text": [
            "* Fawwaz\n",
            "  main\n"
          ]
        }
      ],
      "source": [
        "!git branch"
      ]
    },
    {
      "cell_type": "code",
      "execution_count": 6,
      "metadata": {},
      "outputs": [],
      "source": [
        "!git config --global user.name \"FawwazSholehuddin25\"\n",
        "!git config --global user.email \"fawwaz.sh700@gmail.com\""
      ]
    },
    {
      "cell_type": "code",
      "execution_count": null,
      "metadata": {},
      "outputs": [],
      "source": []
    }
  ],
  "metadata": {
    "colab": {
      "include_colab_link": true,
      "provenance": []
    },
    "kernelspec": {
      "display_name": ".venv",
      "language": "python",
      "name": "python3"
    },
    "language_info": {
      "codemirror_mode": {
        "name": "ipython",
        "version": 3
      },
      "file_extension": ".py",
      "mimetype": "text/x-python",
      "name": "python",
      "nbconvert_exporter": "python",
      "pygments_lexer": "ipython3",
      "version": "3.13.2"
    }
  },
  "nbformat": 4,
  "nbformat_minor": 0
}
