{
 "cells": [
  {
   "cell_type": "markdown",
   "id": "ee45d52f",
   "metadata": {},
   "source": [
    "Pra-pemrosesan"
   ]
  },
  {
   "cell_type": "code",
   "execution_count": null,
   "id": "1284ceff",
   "metadata": {},
   "outputs": [],
   "source": []
  }
 ],
 "metadata": {
  "language_info": {
   "name": "python"
  }
 },
 "nbformat": 4,
 "nbformat_minor": 5
}
