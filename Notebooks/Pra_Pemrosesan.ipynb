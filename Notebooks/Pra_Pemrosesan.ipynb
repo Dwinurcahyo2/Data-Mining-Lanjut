{
  "nbformat": 4,
  "nbformat_minor": 0,
  "metadata": {
    "colab": {
      "provenance": [],
      "authorship_tag": "ABX9TyPG2qdTOZfmvJxc9ueCExkv",
      "include_colab_link": true
    },
    "kernelspec": {
      "name": "python3",
      "display_name": "Python 3"
    },
    "language_info": {
      "name": "python"
    }
  },
  "cells": [
    {
      "cell_type": "markdown",
      "metadata": {
        "id": "view-in-github",
        "colab_type": "text"
      },
      "source": [
        "<a href=\"https://colab.research.google.com/github/Dwinurcahyo2/Data-Mining-Lanjut/blob/Dwi/Notebooks/Pra_Pemrosesan.ipynb\" target=\"_parent\"><img src=\"https://colab.research.google.com/assets/colab-badge.svg\" alt=\"Open In Colab\"/></a>"
      ]
    },
    {
      "cell_type": "code",
      "execution_count": 1,
      "metadata": {
        "colab": {
          "base_uri": "https://localhost:8080/"
        },
        "id": "wxp0MHgHRg5K",
        "outputId": "97fdc8d3-33e8-434a-8ffc-e6643d7b6809"
      },
      "outputs": [
        {
          "output_type": "stream",
          "name": "stdout",
          "text": [
            "Cloning into 'Data-Mining-Lanjut'...\n",
            "remote: Enumerating objects: 76, done.\u001b[K\n",
            "remote: Counting objects: 100% (76/76), done.\u001b[K\n",
            "remote: Compressing objects: 100% (66/66), done.\u001b[K\n",
            "remote: Total 76 (delta 26), reused 13 (delta 2), pack-reused 0 (from 0)\u001b[K\n",
            "Receiving objects: 100% (76/76), 1.40 MiB | 5.10 MiB/s, done.\n",
            "Resolving deltas: 100% (26/26), done.\n"
          ]
        }
      ],
      "source": [
        "\t!git clone https://github.com/Dwinurcahyo2/Data-Mining-Lanjut"
      ]
    },
    {
      "cell_type": "code",
      "source": [
        "%cd /content/Data-Mining-Lanjut/Notebooks"
      ],
      "metadata": {
        "colab": {
          "base_uri": "https://localhost:8080/"
        },
        "id": "zMq-JS7qSJoZ",
        "outputId": "9a8e1982-e5ae-4b25-df03-32b90f207bfc"
      },
      "execution_count": 6,
      "outputs": [
        {
          "output_type": "stream",
          "name": "stdout",
          "text": [
            "/content/Data-Mining-Lanjut/Notebooks\n"
          ]
        }
      ]
    },
    {
      "cell_type": "code",
      "source": [
        "!git fetch origin\n",
        "!git checkout -b Dwi origin/Dwi"
      ],
      "metadata": {
        "colab": {
          "base_uri": "https://localhost:8080/"
        },
        "id": "KQRUdDHZSRW3",
        "outputId": "56a0e24c-1161-411c-bbc2-f51d55ce7c5c"
      },
      "execution_count": 3,
      "outputs": [
        {
          "output_type": "stream",
          "name": "stdout",
          "text": [
            "Branch 'Dwi' set up to track remote branch 'Dwi' from 'origin'.\n",
            "Switched to a new branch 'Dwi'\n"
          ]
        }
      ]
    },
    {
      "cell_type": "code",
      "source": [
        "\t!git config --global user.name \"Dwinurcahyo2\"\n",
        "\t!git config --global user.email \"dwinurcahyo.1e@gmail.com\""
      ],
      "metadata": {
        "id": "f-Wsw2vqSauK"
      },
      "execution_count": 4,
      "outputs": []
    }
  ]
}