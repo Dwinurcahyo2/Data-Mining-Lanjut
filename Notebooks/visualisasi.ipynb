{
 "cells": [
  {
   "cell_type": "code",
   "execution_count": 1,
   "id": "6b19e057",
   "metadata": {},
   "outputs": [
    {
     "name": "stderr",
     "output_type": "stream",
     "text": [
      "Cloning into 'Data-Mining-Lanjut'...\n"
     ]
    }
   ],
   "source": [
    "!git clone https://github.com/Dwinurcahyo2/Data-Mining-Lanjut.git"
   ]
  },
  {
   "cell_type": "code",
   "execution_count": 14,
   "id": "0fa0a1ab",
   "metadata": {},
   "outputs": [
    {
     "name": "stdout",
     "output_type": "stream",
     "text": [
      "F:\\Kuliah\\semester6\\Data Mining Lanjut\\UAS\\Data-Mining-Lanjut\\Notebooks\n"
     ]
    }
   ],
   "source": [
    "# Ganti ini sesuai folder tempat kamu menyimpan hasil clone\n",
    "%cd \"F:\\Kuliah\\semester6\\Data Mining Lanjut\\UAS\\Data-Mining-Lanjut\\Notebooks\"\n"
   ]
  },
  {
   "cell_type": "code",
   "execution_count": 9,
   "id": "98a58b5c",
   "metadata": {},
   "outputs": [
    {
     "name": "stdout",
     "output_type": "stream",
     "text": [
      "branch 'Dwi' set up to track 'origin/Dwi'.\n"
     ]
    },
    {
     "name": "stderr",
     "output_type": "stream",
     "text": [
      "Switched to a new branch 'Dwi'\n"
     ]
    }
   ],
   "source": [
    "!git fetch origin\n",
    "!git checkout -b Dwi origin/Dwi"
   ]
  },
  {
   "cell_type": "code",
   "execution_count": 10,
   "id": "cc10c372",
   "metadata": {},
   "outputs": [
    {
     "name": "stdout",
     "output_type": "stream",
     "text": [
      "* Dwi\n",
      "  main\n"
     ]
    }
   ],
   "source": [
    "!git branch"
   ]
  },
  {
   "cell_type": "code",
   "execution_count": 11,
   "id": "4c35e693",
   "metadata": {},
   "outputs": [],
   "source": [
    "!git config --global user.name \"Dwinurcahyo2\"\n",
    "!git config --global user.email \"dwinurcahyo.1e@gmail.com\""
   ]
  },
  {
   "cell_type": "code",
   "execution_count": null,
   "id": "efb25b75",
   "metadata": {},
   "outputs": [
    {
     "name": "stderr",
     "output_type": "stream",
     "text": [
      "warning: adding embedded git repository: Data-Mining-Lanjut\n",
      "hint: You've added another git repository inside your current repository.\n",
      "hint: Clones of the outer repository will not contain the contents of\n",
      "hint: the embedded repository and will not know how to obtain it.\n",
      "hint: If you meant to add a submodule, use:\n",
      "hint:\n",
      "hint: \tgit submodule add <url> Data-Mining-Lanjut\n",
      "hint:\n",
      "hint: If you added this path by mistake, you can remove it from the\n",
      "hint: index with:\n",
      "hint:\n",
      "hint: \tgit rm --cached Data-Mining-Lanjut\n",
      "hint:\n",
      "hint: See \"git help submodule\" for more information.\n",
      "hint: Disable this message with \"git config set advice.addEmbeddedRepo false\"\n"
     ]
    }
   ],
   "source": []
  }
 ],
 "metadata": {
  "kernelspec": {
   "display_name": "Python (myenv)",
   "language": "python",
   "name": "myenv"
  },
  "language_info": {
   "codemirror_mode": {
    "name": "ipython",
    "version": 3
   },
   "file_extension": ".py",
   "mimetype": "text/x-python",
   "name": "python",
   "nbconvert_exporter": "python",
   "pygments_lexer": "ipython3",
   "version": "3.10.6"
  }
 },
 "nbformat": 4,
 "nbformat_minor": 5
}
