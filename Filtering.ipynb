{
  "nbformat": 4,
  "nbformat_minor": 0,
  "metadata": {
    "colab": {
      "provenance": [],
      "authorship_tag": "ABX9TyNs5toVs0XxZzDZ090WQ7fS",
      "include_colab_link": true
    },
    "kernelspec": {
      "name": "python3",
      "display_name": "Python 3"
    },
    "language_info": {
      "name": "python"
    }
  },
  "cells": [
    {
      "cell_type": "markdown",
      "metadata": {
        "id": "view-in-github",
        "colab_type": "text"
      },
      "source": [
        "<a href=\"https://colab.research.google.com/github/Dwinurcahyo2/Data-Mining-Lanjut/blob/main/Filtering.ipynb\" target=\"_parent\"><img src=\"https://colab.research.google.com/assets/colab-badge.svg\" alt=\"Open In Colab\"/></a>"
      ]
    },
    {
      "cell_type": "code",
      "execution_count": null,
      "metadata": {
        "id": "DvtQIT9HzKx7"
      },
      "outputs": [],
      "source": [
        "import pandas as pd\n",
        "import os\n",
        "import numpy as np\n",
        "from tqdm import tqdm\n",
        "\n",
        "# Path ke folder CSV yang sudah difilter\n",
        "INPUT_FILTERED_CSV_DIR = \"/content/output/filtered_csv\"\n",
        "\n",
        "# Path untuk menyimpan file CSV fitur\n",
        "OUTPUT_FEATURES_CSV = \"/content/output/features/extracted_features.csv\"\n",
        "\n",
        "# Buat direktori output untuk fitur jika belum ada\n",
        "os.makedirs(os.path.dirname(OUTPUT_FEATURES_CSV), exist_ok=True)\n",
        "\n",
        "# Ambil daftar file CSV dari direktori input yang difilter\n",
        "filtered_csv_files = [f for f in os.listdir(INPUT_FILTERED_CSV_DIR) if f.endswith('.csv')]\n",
        "\n",
        "if not filtered_csv_files:\n",
        "    print(f\"Tidak ada file CSV yang difilter ditemukan di {INPUT_FILTERED_CSV_DIR}. Pastikan proses filtering sudah berhasil.\")\n",
        "else:\n",
        "    print(f\"Mengekstraksi fitur dari {len(filtered_csv_files)} file CSV yang difilter...\")\n",
        "\n",
        "    all_features = []\n",
        "\n",
        "    # Iterasi melalui setiap file CSV yang difilter\n",
        "    for file_name in tqdm(filtered_csv_files, desc=\"Mengekstraksi Fitur\"):\n",
        "        input_path = os.path.join(INPUT_FILTERED_CSV_DIR, file_name)\n",
        "\n",
        "        try:\n",
        "            df_filtered = pd.read_csv(input_path)\n",
        "\n",
        "            # Tentukan label berdasarkan nama file (misal: 'arrhythmia_' atau 'noise_')\n",
        "            label = 'noise' if 'noise_' in file_name else 'arrhythmia'\n",
        "\n",
        "            # Pastikan DataFrame tidak kosong dan memiliki kolom sinyal\n",
        "            if df_filtered.empty or len(df_filtered.columns) == 0:\n",
        "                print(f\"Peringatan: File {input_path} kosong atau tidak memiliki kolom. Melewati.\")\n",
        "                continue\n",
        "\n",
        "            # Ekstraksi fitur untuk setiap kolom (sinyal) dalam file\n",
        "            for col in df_filtered.columns:\n",
        "                 # Pastikan kolom adalah tipe numerik sebelum ekstraksi fitur\n",
        "                if pd.api.types.is_numeric_dtype(df_filtered[col]):\n",
        "                    signal_data = df_filtered[col].values\n",
        "\n",
        "                    # Ekstrak fitur menggunakan fungsi yang sudah ada\n",
        "                    features = extract_features(signal_data)\n",
        "\n",
        "                    # Tambahkan metadata (nama file, nama sinyal, label)\n",
        "                    features['file_name'] = file_name\n",
        "                    features['signal_name'] = col\n",
        "                    features['label'] = label # Tambahkan label noise/arrhythmia\n",
        "\n",
        "                    all_features.append(features)\n",
        "                else:\n",
        "                     print(f\"Peringatan: Kolom '{col}' di file {input_path} bukan numerik. Melewati ekstraksi fitur untuk kolom ini.\")\n",
        "\n",
        "\n",
        "        except Exception as e:\n",
        "            print(f\"Gagal memproses file {input_path} saat ekstraksi fitur: {e}\")\n",
        "\n",
        "    if all_features:\n",
        "        # Konversi list of dicts menjadi DataFrame\n",
        "        features_df = pd.DataFrame(all_features)\n",
        "\n",
        "        # Simpan DataFrame fitur ke file CSV\n",
        "        features_df.to_csv(OUTPUT_FEATURES_CSV, index=False)\n",
        "\n",
        "        print(f\"\\nProses ekstraksi fitur selesai. Fitur disimpan di: {OUTPUT_FEATURES_CSV}\")\n",
        "        display(features_df.head()) # Tampilkan beberapa baris pertama DataFrame fitur\n",
        "    else:\n",
        "        print(\"\\nTidak ada fitur yang berhasil diekstraksi.\")"
      ]
    }
  ]
}