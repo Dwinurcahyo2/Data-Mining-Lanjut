{
  "nbformat": 4,
  "nbformat_minor": 0,
  "metadata": {
    "colab": {
      "provenance": [],
      "authorship_tag": "ABX9TyPZynJ4Ct2lQ4GT9KnC3Hxj",
      "include_colab_link": true
    },
    "kernelspec": {
      "name": "python3",
      "display_name": "Python 3"
    },
    "language_info": {
      "name": "python"
    }
  },
  "cells": [
    {
      "cell_type": "markdown",
      "metadata": {
        "id": "view-in-github",
        "colab_type": "text"
      },
      "source": [
        "<a href=\"https://colab.research.google.com/github/Dwinurcahyo2/Data-Mining-Lanjut/blob/main/Preprocessing.ipynb\" target=\"_parent\"><img src=\"https://colab.research.google.com/assets/colab-badge.svg\" alt=\"Open In Colab\"/></a>"
      ]
    },
    {
      "cell_type": "code",
      "execution_count": null,
      "metadata": {
        "id": "dxB9TOIHyhIn"
      },
      "outputs": [],
      "source": [
        "# src/04_split_data.py\n",
        "\n",
        "from sklearn.model_selection import train_test_split\n",
        "import pandas as pd\n",
        "import os\n",
        "\n",
        "\n",
        "print(\"Membuat data dummy untuk demonstrasi pembagian data...\")\n",
        "\n",
        "# Jumlah sampel dummy\n",
        "n_samples = 100\n",
        "\n",
        "# Jumlah fitur dummy\n",
        "n_features = 3\n",
        "\n",
        "# Membuat fitur dummy (misal: energi, variansi, puncak spektrum)\n",
        "X_dummy = pd.DataFrame(np.random.rand(n_samples, n_features), columns=['energy', 'variance', 'spectrum_peak'])\n",
        "\n",
        "# Membuat label dummy (misal: 0 untuk 'bukan derau', 1 untuk 'derau')\n",
        "y_dummy = pd.Series(np.random.randint(0, 2, n_samples), name='noise_label')\n",
        "\n",
        "X = X_dummy\n",
        "y = y_dummy\n",
        "\n",
        "print(f\"Ukuran dataset fitur (X): {X.shape}\")\n",
        "print(f\"Ukuran dataset label (y): {y.shape}\")\n",
        "\n",
        "\n",
        "# Pembagian data menjadi set pelatihan dan pengujian\n",
        "X_train, X_test, y_train, y_test = train_test_split(X, y, test_size=0.2, random_state=42)\n",
        "\n",
        "print(\"\\nPembagian data selesai.\")\n",
        "print(f\"Ukuran set pelatihan (X_train): {X_train.shape}\")\n",
        "print(f\"Ukuran set pengujian (X_test): {X_test.shape}\")\n",
        "print(f\"Ukuran label pelatihan (y_train): {y_train.shape}\")\n",
        "print(f\"Ukuran label pengujian (y_test): {y_test.shape}\")\n",
        "\n"
      ]
    }
  ]
}