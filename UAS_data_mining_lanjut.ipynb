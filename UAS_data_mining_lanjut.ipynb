{
  "nbformat": 4,
  "nbformat_minor": 0,
  "metadata": {
    "colab": {
      "provenance": [],
      "include_colab_link": true
    },
    "kernelspec": {
      "name": "python3",
      "display_name": "Python 3"
    },
    "language_info": {
      "name": "python"
    }
  },
  "cells": [
    {
      "cell_type": "markdown",
      "metadata": {
        "id": "view-in-github",
        "colab_type": "text"
      },
      "source": [
        "<a href=\"https://colab.research.google.com/github/Dwinurcahyo2/Data-Mining-Lanjut/blob/main/UAS_data_mining_lanjut.ipynb\" target=\"_parent\"><img src=\"https://colab.research.google.com/assets/colab-badge.svg\" alt=\"Open In Colab\"/></a>"
      ]
    },
    {
      "cell_type": "markdown",
      "source": [
        "**UAS DATA MINING LANJUT**"
      ],
      "metadata": {
        "id": "c10sA69YpxcM"
      }
    },
    {
      "cell_type": "markdown",
      "source": [
        "LIBRARY"
      ],
      "metadata": {
        "id": "sUhdadnnqE7r"
      }
    },
    {
      "cell_type": "code",
      "execution_count": 1,
      "metadata": {
        "id": "GGbTizkZoev3",
        "outputId": "3a6f7748-19e5-4ce5-d6c6-4d57bfe61f22",
        "colab": {
          "base_uri": "https://localhost:8080/"
        }
      },
      "outputs": [
        {
          "output_type": "stream",
          "name": "stdout",
          "text": [
            "Cloning into 'Data-Mining-Lanjut'...\n",
            "fatal: could not read Username for 'https://github.com': No such device or address\n"
          ]
        }
      ],
      "source": [
        "!git clone https://github.com/Daffa-24/Data-Mining-Lanjut"
      ]
    }
  ]
}